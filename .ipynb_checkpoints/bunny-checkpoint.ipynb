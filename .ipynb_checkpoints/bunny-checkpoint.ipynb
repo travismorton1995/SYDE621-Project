{
 "cells": [
  {
   "cell_type": "code",
   "execution_count": 1,
   "metadata": {},
   "outputs": [
    {
     "ename": "ModuleNotFoundError",
     "evalue": "No module named 'mayavi'",
     "output_type": "error",
     "traceback": [
      "\u001b[1;31m---------------------------------------------------------------------------\u001b[0m",
      "\u001b[1;31mModuleNotFoundError\u001b[0m                       Traceback (most recent call last)",
      "\u001b[1;32m<ipython-input-1-9484c2cbad9b>\u001b[0m in \u001b[0;36m<module>\u001b[1;34m\u001b[0m\n\u001b[0;32m      5\u001b[0m \u001b[1;33m\u001b[0m\u001b[0m\n\u001b[0;32m      6\u001b[0m \u001b[1;31m# Enthought library imports\u001b[0m\u001b[1;33m\u001b[0m\u001b[1;33m\u001b[0m\u001b[1;33m\u001b[0m\u001b[0m\n\u001b[1;32m----> 7\u001b[1;33m \u001b[1;32mfrom\u001b[0m \u001b[0mmayavi\u001b[0m \u001b[1;32mimport\u001b[0m \u001b[0mmlab\u001b[0m\u001b[1;33m\u001b[0m\u001b[1;33m\u001b[0m\u001b[0m\n\u001b[0m\u001b[0;32m      8\u001b[0m \u001b[1;33m\u001b[0m\u001b[0m\n\u001b[0;32m      9\u001b[0m \u001b[1;31m### Download the bunny data, if not already on disk ############################\u001b[0m\u001b[1;33m\u001b[0m\u001b[1;33m\u001b[0m\u001b[1;33m\u001b[0m\u001b[0m\n",
      "\u001b[1;31mModuleNotFoundError\u001b[0m: No module named 'mayavi'"
     ]
    }
   ],
   "source": [
    "# Copyright (c) 2014-2020, Enthought, Inc.\n",
    "# Standard library imports\n",
    "import os\n",
    "from os.path import join\n",
    "\n",
    "# Enthought library imports\n",
    "from mayavi import mlab\n",
    "\n",
    "### Download the bunny data, if not already on disk ############################\n",
    "if not os.path.exists('bunny.tar.gz'):\n",
    "    # Download the data\n",
    "    try:\n",
    "        from urllib import urlopen\n",
    "    except ImportError:\n",
    "        from urllib.request import urlopen\n",
    "    print(\"Downloading bunny model, Please Wait (3MB)\")\n",
    "    opener = urlopen(\n",
    "                'http://graphics.stanford.edu/pub/3Dscanrep/bunny.tar.gz')\n",
    "    open('bunny.tar.gz', 'wb').write(opener.read())\n",
    "\n",
    "# Extract the data\n",
    "import tarfile\n",
    "bunny_tar_file = tarfile.open('bunny.tar.gz')\n",
    "try:\n",
    "    os.mkdir('bunny_data')\n",
    "except:\n",
    "    pass\n",
    "bunny_tar_file.extractall('bunny_data')\n",
    "bunny_tar_file.close()\n",
    "\n",
    "# Path to the bunny ply file\n",
    "bunny_ply_file = join('bunny_data', 'bunny', 'reconstruction', 'bun_zipper.ply')\n",
    "\n",
    "# Render the bunny ply file\n",
    "mlab.pipeline.surface(mlab.pipeline.open(bunny_ply_file))\n",
    "mlab.show()\n",
    "\n",
    "import shutil\n",
    "shutil.rmtree('bunny_data')"
   ]
  },
  {
   "cell_type": "code",
   "execution_count": null,
   "metadata": {},
   "outputs": [],
   "source": []
  }
 ],
 "metadata": {
  "kernelspec": {
   "display_name": "Python 3",
   "language": "python",
   "name": "python3"
  },
  "language_info": {
   "codemirror_mode": {
    "name": "ipython",
    "version": 3
   },
   "file_extension": ".py",
   "mimetype": "text/x-python",
   "name": "python",
   "nbconvert_exporter": "python",
   "pygments_lexer": "ipython3",
   "version": "3.7.9"
  }
 },
 "nbformat": 4,
 "nbformat_minor": 4
}
